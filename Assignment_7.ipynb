{
  "cells": [
    {
      "cell_type": "markdown",
      "metadata": {
        "id": "view-in-github",
        "colab_type": "text"
      },
      "source": [
        "<a href=\"https://colab.research.google.com/github/Valerie-Osawe/predict_salary/blob/main/Assignment_7.ipynb\" target=\"_parent\"><img src=\"https://colab.research.google.com/assets/colab-badge.svg\" alt=\"Open In Colab\"/></a>"
      ]
    },
    {
      "cell_type": "markdown",
      "id": "ea4f71cc-3255-4283-93c1-da83a00d1b0d",
      "metadata": {
        "id": "ea4f71cc-3255-4283-93c1-da83a00d1b0d"
      },
      "source": [
        "## Predict A Person's Salary"
      ]
    },
    {
      "cell_type": "markdown",
      "id": "172f8480-1c1d-46b3-a205-87f96b140b69",
      "metadata": {
        "id": "172f8480-1c1d-46b3-a205-87f96b140b69"
      },
      "source": [
        "\n",
        "\n",
        "### Data Dictionary\n",
        "\n",
        "```\n",
        "- Age: continuous.\n",
        "\n",
        "- Workclass: Private, Self-emp-not-inc, Self-emp-inc, Federal-gov, Local-gov, State-gov, Without-pay, Never-worked.\n",
        "\n",
        "- Final_weight: continuous.\n",
        "\n",
        "- Education: Bachelors, Some-college, 11th, HS-grad, Prof-school, Assoc-acdm, Assoc-voc, 9th, 7th-8th, 12th, - Masters, 1st-4th, 10th, Doctorate, 5th-6th, Preschool.\n",
        "\n",
        "- Education_num: continuous.\n",
        "\n",
        "- Marital_status: Married-civ-spouse, Divorced, Never-married, Separated, Widowed, Married-spouse-absent, - Married-AF-spouse.\n",
        "\n",
        "- Occupation: Tech-support, Craft-repair, Other-service, Sales, Exec-managerial, Prof-specialty, Handlers-cleaners, Machine-op-inspct, Adm-clerical, Farming-fishing, Transport-moving, Priv-house-serv, Protective-serv, Armed-Forces.\n",
        "\n",
        "- Relationship: Wife, Own-child, Husband, Not-in-family, Other-relative, Unmarried.\n",
        "\n",
        "- Race: White, Asian-Pac-Islander, Amer-Indian-Eskimo, Other, Black.\n",
        "\n",
        "- Genger: Female, Male.\n",
        "\n",
        "- Capital_gain: continuous.\n",
        "\n",
        "- Capital_loss: continuous.\n",
        "\n",
        "- Hours_per_week: continuous.\n",
        "\n",
        "- Country: United-States, Cambodia, England, Puerto-Rico, Canada, Germany, Outlying-US(Guam-USVI-etc), India, Japan, Greece, South, China, Cuba, Iran, Honduras, Philippines, Italy, Poland, Jamaica, Vietnam, Mexico, Portugal, Ireland, France, Dominican-Republic, Laos, Ecuador, Taiwan, Haiti, Columbia, Hungary, Guatemala, Nicaragua, Scotland, Thailand, Yugoslavia, El-Salvador, Trinadad&Tobago, Peru, Hong, Holand-Netherlands.\n",
        "\n",
        "- Salary: \n",
        "```\n",
        "\n",
        "### Objective\n",
        "\n",
        "```\n",
        "Predict whether a person makes over 50K a year.\n",
        "\n",
        "```"
      ]
    },
    {
      "cell_type": "code",
      "execution_count": null,
      "metadata": {
        "id": "7f659c96-b085-483c-960c-16b53a0312e3"
      },
      "outputs": [],
      "source": [
        "# Built-in library\n",
        "import itertools\n",
        "\n",
        "# Standard imports\n",
        "import numpy as np\n",
        "import pandas as pd\n",
        "\n",
        "\n",
        "# pandas settings\n",
        "pd.options.display.max_rows = 1_000\n",
        "pd.options.display.max_columns = 1_000\n",
        "pd.options.display.max_colwidth = 1_000\n",
        "\n",
        "\n",
        "# Black code formatter\n",
        "%load_ext lab_black"
      ],
      "id": "7f659c96-b085-483c-960c-16b53a0312e3"
    },
    {
      "cell_type": "code",
      "execution_count": null,
      "id": "a0038bcd-5c4a-44f9-abe7-e3887fec07aa",
      "metadata": {
        "id": "a0038bcd-5c4a-44f9-abe7-e3887fec07aa",
        "outputId": "b4c9169c-6c12-46e3-9cf8-724b566ce1d4"
      },
      "outputs": [
        {
          "data": {
            "text/html": [
              "<div>\n",
              "<style scoped>\n",
              "    .dataframe tbody tr th:only-of-type {\n",
              "        vertical-align: middle;\n",
              "    }\n",
              "\n",
              "    .dataframe tbody tr th {\n",
              "        vertical-align: top;\n",
              "    }\n",
              "\n",
              "    .dataframe thead th {\n",
              "        text-align: right;\n",
              "    }\n",
              "</style>\n",
              "<table border=\"1\" class=\"dataframe\">\n",
              "  <thead>\n",
              "    <tr style=\"text-align: right;\">\n",
              "      <th></th>\n",
              "      <th>Age</th>\n",
              "      <th>Workclass</th>\n",
              "      <th>Final_weight</th>\n",
              "      <th>Education</th>\n",
              "      <th>Education_num</th>\n",
              "      <th>Marital_status</th>\n",
              "      <th>Occupation</th>\n",
              "      <th>Relationship</th>\n",
              "      <th>Race</th>\n",
              "      <th>Sex</th>\n",
              "      <th>Capital_gain</th>\n",
              "      <th>Capital_loss</th>\n",
              "      <th>Hours_per_week</th>\n",
              "      <th>Country</th>\n",
              "      <th>Salary</th>\n",
              "    </tr>\n",
              "  </thead>\n",
              "  <tbody>\n",
              "    <tr>\n",
              "      <th>0</th>\n",
              "      <td>50</td>\n",
              "      <td>Self-emp-not-inc</td>\n",
              "      <td>83311</td>\n",
              "      <td>Bachelors</td>\n",
              "      <td>13</td>\n",
              "      <td>Married-civ-spouse</td>\n",
              "      <td>Exec-managerial</td>\n",
              "      <td>Husband</td>\n",
              "      <td>White</td>\n",
              "      <td>Male</td>\n",
              "      <td>0</td>\n",
              "      <td>0</td>\n",
              "      <td>13</td>\n",
              "      <td>United-States</td>\n",
              "      <td>&lt;=50K</td>\n",
              "    </tr>\n",
              "    <tr>\n",
              "      <th>1</th>\n",
              "      <td>38</td>\n",
              "      <td>Private</td>\n",
              "      <td>215646</td>\n",
              "      <td>HS-grad</td>\n",
              "      <td>9</td>\n",
              "      <td>Divorced</td>\n",
              "      <td>Handlers-cleaners</td>\n",
              "      <td>Not-in-family</td>\n",
              "      <td>White</td>\n",
              "      <td>Male</td>\n",
              "      <td>0</td>\n",
              "      <td>0</td>\n",
              "      <td>40</td>\n",
              "      <td>United-States</td>\n",
              "      <td>&lt;=50K</td>\n",
              "    </tr>\n",
              "    <tr>\n",
              "      <th>2</th>\n",
              "      <td>53</td>\n",
              "      <td>Private</td>\n",
              "      <td>234721</td>\n",
              "      <td>11th</td>\n",
              "      <td>7</td>\n",
              "      <td>Married-civ-spouse</td>\n",
              "      <td>Handlers-cleaners</td>\n",
              "      <td>Husband</td>\n",
              "      <td>Black</td>\n",
              "      <td>Male</td>\n",
              "      <td>0</td>\n",
              "      <td>0</td>\n",
              "      <td>40</td>\n",
              "      <td>United-States</td>\n",
              "      <td>&lt;=50K</td>\n",
              "    </tr>\n",
              "    <tr>\n",
              "      <th>3</th>\n",
              "      <td>28</td>\n",
              "      <td>Private</td>\n",
              "      <td>338409</td>\n",
              "      <td>Bachelors</td>\n",
              "      <td>13</td>\n",
              "      <td>Married-civ-spouse</td>\n",
              "      <td>Prof-specialty</td>\n",
              "      <td>Wife</td>\n",
              "      <td>Black</td>\n",
              "      <td>Female</td>\n",
              "      <td>0</td>\n",
              "      <td>0</td>\n",
              "      <td>40</td>\n",
              "      <td>Cuba</td>\n",
              "      <td>&lt;=50K</td>\n",
              "    </tr>\n",
              "    <tr>\n",
              "      <th>4</th>\n",
              "      <td>37</td>\n",
              "      <td>Private</td>\n",
              "      <td>284582</td>\n",
              "      <td>Masters</td>\n",
              "      <td>14</td>\n",
              "      <td>Married-civ-spouse</td>\n",
              "      <td>Exec-managerial</td>\n",
              "      <td>Wife</td>\n",
              "      <td>White</td>\n",
              "      <td>Female</td>\n",
              "      <td>0</td>\n",
              "      <td>0</td>\n",
              "      <td>40</td>\n",
              "      <td>United-States</td>\n",
              "      <td>&lt;=50K</td>\n",
              "    </tr>\n",
              "  </tbody>\n",
              "</table>\n",
              "</div>"
            ],
            "text/plain": [
              "   Age          Workclass  Final_weight   Education  Education_num  \\\n",
              "0   50   Self-emp-not-inc         83311   Bachelors             13   \n",
              "1   38            Private        215646     HS-grad              9   \n",
              "2   53            Private        234721        11th              7   \n",
              "3   28            Private        338409   Bachelors             13   \n",
              "4   37            Private        284582     Masters             14   \n",
              "\n",
              "        Marital_status          Occupation    Relationship    Race      Sex  \\\n",
              "0   Married-civ-spouse     Exec-managerial         Husband   White     Male   \n",
              "1             Divorced   Handlers-cleaners   Not-in-family   White     Male   \n",
              "2   Married-civ-spouse   Handlers-cleaners         Husband   Black     Male   \n",
              "3   Married-civ-spouse      Prof-specialty            Wife   Black   Female   \n",
              "4   Married-civ-spouse     Exec-managerial            Wife   White   Female   \n",
              "\n",
              "   Capital_gain  Capital_loss  Hours_per_week         Country  Salary  \n",
              "0             0             0              13   United-States   <=50K  \n",
              "1             0             0              40   United-States   <=50K  \n",
              "2             0             0              40   United-States   <=50K  \n",
              "3             0             0              40            Cuba   <=50K  \n",
              "4             0             0              40   United-States   <=50K  "
            ]
          },
          "execution_count": 2,
          "metadata": {},
          "output_type": "execute_result"
        }
      ],
      "source": [
        "# Load the dataset\n",
        "salary = pd.read_csv(\"salary.csv\")\n",
        "\n",
        "# Check the first few rows of the dataset\n",
        "salary.head()"
      ]
    },
    {
      "cell_type": "markdown",
      "id": "351cf723-2f78-47a2-9847-76a6bcfe9594",
      "metadata": {
        "id": "351cf723-2f78-47a2-9847-76a6bcfe9594"
      },
      "source": [
        "### Exploring data"
      ]
    },
    {
      "cell_type": "code",
      "execution_count": null,
      "id": "2e0d3a49-67a1-433d-a7f8-6ff80d5ef799",
      "metadata": {
        "id": "2e0d3a49-67a1-433d-a7f8-6ff80d5ef799",
        "outputId": "62084692-9be3-4331-e16f-fc41db70e239"
      },
      "outputs": [
        {
          "data": {
            "text/plain": [
              "(32560, 15)"
            ]
          },
          "execution_count": 3,
          "metadata": {},
          "output_type": "execute_result"
        }
      ],
      "source": [
        "# Check the shape of the dataset\n",
        "salary.shape"
      ]
    },
    {
      "cell_type": "code",
      "execution_count": null,
      "id": "a5757c65-dabd-400a-97b5-acf7d16fec29",
      "metadata": {
        "id": "a5757c65-dabd-400a-97b5-acf7d16fec29",
        "outputId": "c1fe96a6-9f02-4a1f-b4f4-ae9e6c4e9e30"
      },
      "outputs": [
        {
          "data": {
            "text/plain": [
              "Age               0\n",
              "Workclass         0\n",
              "Final_weight      0\n",
              "Education         0\n",
              "Education_num     0\n",
              "Marital_status    0\n",
              "Occupation        0\n",
              "Relationship      0\n",
              "Race              0\n",
              "Sex               0\n",
              "Capital_gain      0\n",
              "Capital_loss      0\n",
              "Hours_per_week    0\n",
              "Country           0\n",
              "Salary            0\n",
              "dtype: int64"
            ]
          },
          "execution_count": 4,
          "metadata": {},
          "output_type": "execute_result"
        }
      ],
      "source": [
        "# Check for missing values\n",
        "salary.isnull().sum()"
      ]
    },
    {
      "cell_type": "code",
      "execution_count": null,
      "id": "cc1aaf1a-acdd-4f1e-b30e-43a2c254cb95",
      "metadata": {
        "id": "cc1aaf1a-acdd-4f1e-b30e-43a2c254cb95",
        "outputId": "e5338996-62a1-4246-c448-5f68b6d2b474"
      },
      "outputs": [
        {
          "data": {
            "text/plain": [
              " United-States                 29169\n",
              " Mexico                          643\n",
              " ?                               583\n",
              " Philippines                     198\n",
              " Germany                         137\n",
              " Canada                          121\n",
              " Puerto-Rico                     114\n",
              " El-Salvador                     106\n",
              " India                           100\n",
              " Cuba                             95\n",
              " England                          90\n",
              " Jamaica                          81\n",
              " South                            80\n",
              " China                            75\n",
              " Italy                            73\n",
              " Dominican-Republic               70\n",
              " Vietnam                          67\n",
              " Guatemala                        64\n",
              " Japan                            62\n",
              " Poland                           60\n",
              " Columbia                         59\n",
              " Taiwan                           51\n",
              " Haiti                            44\n",
              " Iran                             43\n",
              " Portugal                         37\n",
              " Nicaragua                        34\n",
              " Peru                             31\n",
              " France                           29\n",
              " Greece                           29\n",
              " Ecuador                          28\n",
              " Ireland                          24\n",
              " Hong                             20\n",
              " Cambodia                         19\n",
              " Trinadad&Tobago                  19\n",
              " Laos                             18\n",
              " Thailand                         18\n",
              " Yugoslavia                       16\n",
              " Outlying-US(Guam-USVI-etc)       14\n",
              " Honduras                         13\n",
              " Hungary                          13\n",
              " Scotland                         12\n",
              " Holand-Netherlands                1\n",
              "Name: Country, dtype: int64"
            ]
          },
          "execution_count": 5,
          "metadata": {},
          "output_type": "execute_result"
        }
      ],
      "source": [
        "salary.Country.value_counts()"
      ]
    },
    {
      "cell_type": "code",
      "execution_count": null,
      "id": "9158f589-316b-4779-9019-69d5d0a548e5",
      "metadata": {
        "id": "9158f589-316b-4779-9019-69d5d0a548e5"
      },
      "outputs": [],
      "source": [
        "salary = salary.query(\"Country != ' ?'\")"
      ]
    },
    {
      "cell_type": "code",
      "execution_count": null,
      "id": "433bc74d-6a56-4f77-90be-7d848324ec94",
      "metadata": {
        "id": "433bc74d-6a56-4f77-90be-7d848324ec94",
        "outputId": "c7db8552-0769-4f07-e285-0af53ed91c07"
      },
      "outputs": [
        {
          "data": {
            "text/plain": [
              " <=50K    24282\n",
              " >50K      7695\n",
              "Name: Salary, dtype: int64"
            ]
          },
          "execution_count": 7,
          "metadata": {},
          "output_type": "execute_result"
        }
      ],
      "source": [
        "# Check the distribution of the target variable\n",
        "salary[\"Salary\"].value_counts()"
      ]
    },
    {
      "cell_type": "markdown",
      "id": "e3f6f7bb-b9f7-4f27-8338-e6dc06028a8a",
      "metadata": {
        "id": "e3f6f7bb-b9f7-4f27-8338-e6dc06028a8a"
      },
      "source": [
        "### Preprocessing data"
      ]
    },
    {
      "cell_type": "code",
      "execution_count": null,
      "id": "8d97d88b-8965-4006-9778-5a49bd519fbe",
      "metadata": {
        "id": "8d97d88b-8965-4006-9778-5a49bd519fbe",
        "outputId": "1276d3bf-5f9d-421a-f1db-aaf0dcf932de"
      },
      "outputs": [
        {
          "data": {
            "text/html": [
              "<div>\n",
              "<style scoped>\n",
              "    .dataframe tbody tr th:only-of-type {\n",
              "        vertical-align: middle;\n",
              "    }\n",
              "\n",
              "    .dataframe tbody tr th {\n",
              "        vertical-align: top;\n",
              "    }\n",
              "\n",
              "    .dataframe thead th {\n",
              "        text-align: right;\n",
              "    }\n",
              "</style>\n",
              "<table border=\"1\" class=\"dataframe\">\n",
              "  <thead>\n",
              "    <tr style=\"text-align: right;\">\n",
              "      <th></th>\n",
              "      <th>Age</th>\n",
              "      <th>Workclass</th>\n",
              "      <th>Final_weight</th>\n",
              "      <th>Education</th>\n",
              "      <th>Education_num</th>\n",
              "      <th>Marital_status</th>\n",
              "      <th>Occupation</th>\n",
              "      <th>Relationship</th>\n",
              "      <th>Race</th>\n",
              "      <th>Sex</th>\n",
              "      <th>Capital_gain</th>\n",
              "      <th>Capital_loss</th>\n",
              "      <th>Hours_per_week</th>\n",
              "      <th>Country</th>\n",
              "      <th>Salary</th>\n",
              "    </tr>\n",
              "  </thead>\n",
              "  <tbody>\n",
              "    <tr>\n",
              "      <th>0</th>\n",
              "      <td>50</td>\n",
              "      <td>6</td>\n",
              "      <td>83311</td>\n",
              "      <td>9</td>\n",
              "      <td>13</td>\n",
              "      <td>2</td>\n",
              "      <td>4</td>\n",
              "      <td>0</td>\n",
              "      <td>4</td>\n",
              "      <td>1</td>\n",
              "      <td>0</td>\n",
              "      <td>0</td>\n",
              "      <td>13</td>\n",
              "      <td>38</td>\n",
              "      <td>&lt;=50K</td>\n",
              "    </tr>\n",
              "    <tr>\n",
              "      <th>1</th>\n",
              "      <td>38</td>\n",
              "      <td>4</td>\n",
              "      <td>215646</td>\n",
              "      <td>11</td>\n",
              "      <td>9</td>\n",
              "      <td>0</td>\n",
              "      <td>6</td>\n",
              "      <td>1</td>\n",
              "      <td>4</td>\n",
              "      <td>1</td>\n",
              "      <td>0</td>\n",
              "      <td>0</td>\n",
              "      <td>40</td>\n",
              "      <td>38</td>\n",
              "      <td>&lt;=50K</td>\n",
              "    </tr>\n",
              "    <tr>\n",
              "      <th>2</th>\n",
              "      <td>53</td>\n",
              "      <td>4</td>\n",
              "      <td>234721</td>\n",
              "      <td>1</td>\n",
              "      <td>7</td>\n",
              "      <td>2</td>\n",
              "      <td>6</td>\n",
              "      <td>0</td>\n",
              "      <td>2</td>\n",
              "      <td>1</td>\n",
              "      <td>0</td>\n",
              "      <td>0</td>\n",
              "      <td>40</td>\n",
              "      <td>38</td>\n",
              "      <td>&lt;=50K</td>\n",
              "    </tr>\n",
              "    <tr>\n",
              "      <th>3</th>\n",
              "      <td>28</td>\n",
              "      <td>4</td>\n",
              "      <td>338409</td>\n",
              "      <td>9</td>\n",
              "      <td>13</td>\n",
              "      <td>2</td>\n",
              "      <td>10</td>\n",
              "      <td>5</td>\n",
              "      <td>2</td>\n",
              "      <td>0</td>\n",
              "      <td>0</td>\n",
              "      <td>0</td>\n",
              "      <td>40</td>\n",
              "      <td>4</td>\n",
              "      <td>&lt;=50K</td>\n",
              "    </tr>\n",
              "    <tr>\n",
              "      <th>4</th>\n",
              "      <td>37</td>\n",
              "      <td>4</td>\n",
              "      <td>284582</td>\n",
              "      <td>12</td>\n",
              "      <td>14</td>\n",
              "      <td>2</td>\n",
              "      <td>4</td>\n",
              "      <td>5</td>\n",
              "      <td>4</td>\n",
              "      <td>0</td>\n",
              "      <td>0</td>\n",
              "      <td>0</td>\n",
              "      <td>40</td>\n",
              "      <td>38</td>\n",
              "      <td>&lt;=50K</td>\n",
              "    </tr>\n",
              "  </tbody>\n",
              "</table>\n",
              "</div>"
            ],
            "text/plain": [
              "   Age  Workclass  Final_weight  Education  Education_num  Marital_status  \\\n",
              "0   50          6         83311          9             13               2   \n",
              "1   38          4        215646         11              9               0   \n",
              "2   53          4        234721          1              7               2   \n",
              "3   28          4        338409          9             13               2   \n",
              "4   37          4        284582         12             14               2   \n",
              "\n",
              "   Occupation  Relationship  Race  Sex  Capital_gain  Capital_loss  \\\n",
              "0           4             0     4    1             0             0   \n",
              "1           6             1     4    1             0             0   \n",
              "2           6             0     2    1             0             0   \n",
              "3          10             5     2    0             0             0   \n",
              "4           4             5     4    0             0             0   \n",
              "\n",
              "   Hours_per_week  Country  Salary  \n",
              "0              13       38   <=50K  \n",
              "1              40       38   <=50K  \n",
              "2              40       38   <=50K  \n",
              "3              40        4   <=50K  \n",
              "4              40       38   <=50K  "
            ]
          },
          "execution_count": 8,
          "metadata": {},
          "output_type": "execute_result"
        }
      ],
      "source": [
        "from sklearn.preprocessing import LabelEncoder\n",
        "\n",
        "cat_vars = [\n",
        "    \"Workclass\",\n",
        "    \"Education\",\n",
        "    \"Marital_status\",\n",
        "    \"Occupation\",\n",
        "    \"Relationship\",\n",
        "    \"Race\",\n",
        "    \"Sex\",\n",
        "    \"Country\",\n",
        "]\n",
        "# Create a LabelEncoder object\n",
        "le = LabelEncoder()\n",
        "\n",
        "# Apply label encoding to the categorical variables using the apply() method\n",
        "salary[cat_vars] = salary[cat_vars].apply(lambda x: le.fit_transform(x))\n",
        "salary.head()"
      ]
    },
    {
      "cell_type": "code",
      "execution_count": null,
      "id": "c3f3df01-0e2c-4364-b694-222e65df8a2b",
      "metadata": {
        "id": "c3f3df01-0e2c-4364-b694-222e65df8a2b",
        "outputId": "d56ec4b5-f032-4700-f1d4-bd3d8218ca9f"
      },
      "outputs": [
        {
          "data": {
            "text/html": [
              "<div>\n",
              "<style scoped>\n",
              "    .dataframe tbody tr th:only-of-type {\n",
              "        vertical-align: middle;\n",
              "    }\n",
              "\n",
              "    .dataframe tbody tr th {\n",
              "        vertical-align: top;\n",
              "    }\n",
              "\n",
              "    .dataframe thead th {\n",
              "        text-align: right;\n",
              "    }\n",
              "</style>\n",
              "<table border=\"1\" class=\"dataframe\">\n",
              "  <thead>\n",
              "    <tr style=\"text-align: right;\">\n",
              "      <th></th>\n",
              "      <th>Age</th>\n",
              "      <th>Workclass</th>\n",
              "      <th>Final_weight</th>\n",
              "      <th>Education</th>\n",
              "      <th>Education_num</th>\n",
              "      <th>Marital_status</th>\n",
              "      <th>Occupation</th>\n",
              "      <th>Relationship</th>\n",
              "      <th>Race</th>\n",
              "      <th>Sex</th>\n",
              "      <th>Capital_gain</th>\n",
              "      <th>Capital_loss</th>\n",
              "      <th>Hours_per_week</th>\n",
              "      <th>Country</th>\n",
              "      <th>Salary</th>\n",
              "    </tr>\n",
              "  </thead>\n",
              "  <tbody>\n",
              "    <tr>\n",
              "      <th>0</th>\n",
              "      <td>0.835962</td>\n",
              "      <td>6</td>\n",
              "      <td>-1.006460</td>\n",
              "      <td>9</td>\n",
              "      <td>1.143809</td>\n",
              "      <td>2</td>\n",
              "      <td>4</td>\n",
              "      <td>0</td>\n",
              "      <td>4</td>\n",
              "      <td>1</td>\n",
              "      <td>-0.145826</td>\n",
              "      <td>-0.215994</td>\n",
              "      <td>-2.220918</td>\n",
              "      <td>38</td>\n",
              "      <td>&lt;=50K</td>\n",
              "    </tr>\n",
              "    <tr>\n",
              "      <th>1</th>\n",
              "      <td>-0.042381</td>\n",
              "      <td>4</td>\n",
              "      <td>0.245246</td>\n",
              "      <td>11</td>\n",
              "      <td>-0.418316</td>\n",
              "      <td>0</td>\n",
              "      <td>6</td>\n",
              "      <td>1</td>\n",
              "      <td>4</td>\n",
              "      <td>1</td>\n",
              "      <td>-0.145826</td>\n",
              "      <td>-0.215994</td>\n",
              "      <td>-0.033848</td>\n",
              "      <td>38</td>\n",
              "      <td>&lt;=50K</td>\n",
              "    </tr>\n",
              "    <tr>\n",
              "      <th>2</th>\n",
              "      <td>1.055548</td>\n",
              "      <td>4</td>\n",
              "      <td>0.425670</td>\n",
              "      <td>1</td>\n",
              "      <td>-1.199378</td>\n",
              "      <td>2</td>\n",
              "      <td>6</td>\n",
              "      <td>0</td>\n",
              "      <td>2</td>\n",
              "      <td>1</td>\n",
              "      <td>-0.145826</td>\n",
              "      <td>-0.215994</td>\n",
              "      <td>-0.033848</td>\n",
              "      <td>38</td>\n",
              "      <td>&lt;=50K</td>\n",
              "    </tr>\n",
              "    <tr>\n",
              "      <th>3</th>\n",
              "      <td>-0.774334</td>\n",
              "      <td>4</td>\n",
              "      <td>1.406415</td>\n",
              "      <td>9</td>\n",
              "      <td>1.143809</td>\n",
              "      <td>2</td>\n",
              "      <td>10</td>\n",
              "      <td>5</td>\n",
              "      <td>2</td>\n",
              "      <td>0</td>\n",
              "      <td>-0.145826</td>\n",
              "      <td>-0.215994</td>\n",
              "      <td>-0.033848</td>\n",
              "      <td>4</td>\n",
              "      <td>&lt;=50K</td>\n",
              "    </tr>\n",
              "    <tr>\n",
              "      <th>4</th>\n",
              "      <td>-0.115576</td>\n",
              "      <td>4</td>\n",
              "      <td>0.897286</td>\n",
              "      <td>12</td>\n",
              "      <td>1.534341</td>\n",
              "      <td>2</td>\n",
              "      <td>4</td>\n",
              "      <td>5</td>\n",
              "      <td>4</td>\n",
              "      <td>0</td>\n",
              "      <td>-0.145826</td>\n",
              "      <td>-0.215994</td>\n",
              "      <td>-0.033848</td>\n",
              "      <td>38</td>\n",
              "      <td>&lt;=50K</td>\n",
              "    </tr>\n",
              "  </tbody>\n",
              "</table>\n",
              "</div>"
            ],
            "text/plain": [
              "        Age  Workclass  Final_weight  Education  Education_num  \\\n",
              "0  0.835962          6     -1.006460          9       1.143809   \n",
              "1 -0.042381          4      0.245246         11      -0.418316   \n",
              "2  1.055548          4      0.425670          1      -1.199378   \n",
              "3 -0.774334          4      1.406415          9       1.143809   \n",
              "4 -0.115576          4      0.897286         12       1.534341   \n",
              "\n",
              "   Marital_status  Occupation  Relationship  Race  Sex  Capital_gain  \\\n",
              "0               2           4             0     4    1     -0.145826   \n",
              "1               0           6             1     4    1     -0.145826   \n",
              "2               2           6             0     2    1     -0.145826   \n",
              "3               2          10             5     2    0     -0.145826   \n",
              "4               2           4             5     4    0     -0.145826   \n",
              "\n",
              "   Capital_loss  Hours_per_week  Country  Salary  \n",
              "0     -0.215994       -2.220918       38   <=50K  \n",
              "1     -0.215994       -0.033848       38   <=50K  \n",
              "2     -0.215994       -0.033848       38   <=50K  \n",
              "3     -0.215994       -0.033848        4   <=50K  \n",
              "4     -0.215994       -0.033848       38   <=50K  "
            ]
          },
          "execution_count": 9,
          "metadata": {},
          "output_type": "execute_result"
        }
      ],
      "source": [
        "# Scale the numerical variables\n",
        "from sklearn.preprocessing import StandardScaler\n",
        "\n",
        "scaler = StandardScaler()\n",
        "salary[\n",
        "    [\n",
        "        \"Age\",\n",
        "        \"Final_weight\",\n",
        "        \"Education_num\",\n",
        "        \"Capital_gain\",\n",
        "        \"Capital_loss\",\n",
        "        \"Hours_per_week\",\n",
        "    ]\n",
        "] = scaler.fit_transform(\n",
        "    salary[\n",
        "        [\n",
        "            \"Age\",\n",
        "            \"Final_weight\",\n",
        "            \"Education_num\",\n",
        "            \"Capital_gain\",\n",
        "            \"Capital_loss\",\n",
        "            \"Hours_per_week\",\n",
        "        ]\n",
        "    ]\n",
        ")\n",
        "salary.head()"
      ]
    },
    {
      "cell_type": "markdown",
      "id": "a47576e0-d376-4335-bea4-e43720d61665",
      "metadata": {
        "id": "a47576e0-d376-4335-bea4-e43720d61665"
      },
      "source": [
        "### Train model"
      ]
    },
    {
      "cell_type": "code",
      "execution_count": null,
      "id": "424a5339-185b-4cc1-ba07-e5e0c9d31935",
      "metadata": {
        "id": "424a5339-185b-4cc1-ba07-e5e0c9d31935"
      },
      "outputs": [],
      "source": [
        "from sklearn.model_selection import train_test_split\n",
        "\n",
        "# Split the data into features (X) and target (y)\n",
        "X = salary.drop(columns=[\"Salary\"])\n",
        "y = salary[\"Salary\"]\n",
        "\n",
        "# Split the data into a training set and a test set\n",
        "X_train, X_test, y_train, y_test = train_test_split(\n",
        "    X, y, test_size=0.2, random_state=42\n",
        ")"
      ]
    },
    {
      "cell_type": "code",
      "execution_count": null,
      "id": "509fe1b2-5375-4109-ab4e-1972bcedb43a",
      "metadata": {
        "id": "509fe1b2-5375-4109-ab4e-1972bcedb43a",
        "outputId": "0996ef3f-32f5-48d5-8d22-23d77a99feb6"
      },
      "outputs": [
        {
          "name": "stderr",
          "output_type": "stream",
          "text": [
            "C:\\Users\\Engr. Pat\\Downloads\\Compressed\\ancon\\lib\\site-packages\\sklearn\\linear_model\\_logistic.py:763: ConvergenceWarning: lbfgs failed to converge (status=1):\n",
            "STOP: TOTAL NO. of ITERATIONS REACHED LIMIT.\n",
            "\n",
            "Increase the number of iterations (max_iter) or scale the data as shown in:\n",
            "    https://scikit-learn.org/stable/modules/preprocessing.html\n",
            "Please also refer to the documentation for alternative solver options:\n",
            "    https://scikit-learn.org/stable/modules/linear_model.html#logistic-regression\n",
            "  n_iter_i = _check_optimize_result(\n"
          ]
        },
        {
          "data": {
            "text/plain": [
              "LogisticRegression()"
            ]
          },
          "execution_count": 11,
          "metadata": {},
          "output_type": "execute_result"
        }
      ],
      "source": [
        "from sklearn.linear_model import LogisticRegression\n",
        "\n",
        "# Train a logistic regression model\n",
        "model = LogisticRegression()\n",
        "model.fit(X_train, y_train)"
      ]
    },
    {
      "cell_type": "markdown",
      "id": "83bcf63b-0a78-42df-a0b1-1cdbfdcd3b42",
      "metadata": {
        "id": "83bcf63b-0a78-42df-a0b1-1cdbfdcd3b42"
      },
      "source": [
        "### Evaluate Model"
      ]
    },
    {
      "cell_type": "code",
      "execution_count": null,
      "id": "fbc3d7d5-604f-4905-961f-fbbc31f3ae6f",
      "metadata": {
        "id": "fbc3d7d5-604f-4905-961f-fbbc31f3ae6f",
        "outputId": "34af82c9-ce45-498b-99e8-1c6ec986b1e9"
      },
      "outputs": [
        {
          "name": "stdout",
          "output_type": "stream",
          "text": [
            "Accuracy:  0.8256722951844903\n"
          ]
        }
      ],
      "source": [
        "from sklearn.metrics import accuracy_score, precision_score, recall_score, f1_score\n",
        "\n",
        "# Make predictions on the test set\n",
        "predict = model.predict(X_test)\n",
        "\n",
        "# Calculate the accuracy\n",
        "print(\"Accuracy: \", accuracy_score(y_test, predict))"
      ]
    },
    {
      "cell_type": "code",
      "execution_count": null,
      "id": "f3cd2f82-ad43-482d-819b-a283d57261fd",
      "metadata": {
        "id": "f3cd2f82-ad43-482d-819b-a283d57261fd",
        "outputId": "754cd60d-5fa7-43ec-ad26-2011b7649365"
      },
      "outputs": [
        {
          "name": "stdout",
          "output_type": "stream",
          "text": [
            "Precision:  0.6830031282586028\n"
          ]
        }
      ],
      "source": [
        "# Calculate the precision\n",
        "print(\"Precision: \", precision_score(y_test, predict, pos_label=\" >50K\"))"
      ]
    },
    {
      "cell_type": "code",
      "execution_count": null,
      "id": "f776b55a-470f-468a-b2d8-49991b832a55",
      "metadata": {
        "id": "f776b55a-470f-468a-b2d8-49991b832a55",
        "outputId": "df452ef6-fd74-40b5-a042-0be8a88fd9a2"
      },
      "outputs": [
        {
          "name": "stdout",
          "output_type": "stream",
          "text": [
            "Recall:  0.44679399727148705\n",
            "F1-Score:  0.5402061855670103\n"
          ]
        }
      ],
      "source": [
        "# Calculate the recall score\n",
        "print(\"Recall: \", recall_score(y_test, predict, pos_label=\" >50K\"))\n",
        "\n",
        "# Calculate the f1 score\n",
        "print(\"F1-Score: \", f1_score(y_test, predict, pos_label=\" >50K\"))"
      ]
    },
    {
      "cell_type": "markdown",
      "source": [
        "The accuracy, precision, recall, and F1-score values of the model indicates that the model has performed moderately well. The accuracy of the model is 82.57%, which means that the model is able to predict the correct class label for 82.57% of the instances in the test dataset.\n",
        "\n",
        "The precision of the model is 68.30%, which means that out of all the instances that the model has predicted as positive, 68.30% of them are actually positive.\n",
        "\n",
        "The recall of the model is 44.68%, which means that out of all the actual positive instances in the test dataset, the model is able to correctly identify 44.68% of them.\n",
        "\n",
        "The F1-score of the model is 54.02%, which is the harmonic mean of precision and recall. It is a balanced measure that takes both precision and recall into account.\n",
        "\n",
        "Based on the metrics, the model is doing reasonably well but there is still room for improvement."
      ],
      "metadata": {
        "id": "25VMM7F3imim"
      },
      "id": "25VMM7F3imim"
    },
    {
      "cell_type": "markdown",
      "metadata": {
        "id": "6c61ab52-af50-4f90-8893-f6ef91bf887c"
      },
      "source": [
        "### Predict Salary"
      ],
      "id": "6c61ab52-af50-4f90-8893-f6ef91bf887c"
    },
    {
      "cell_type": "code",
      "execution_count": null,
      "metadata": {
        "id": "1d1afe2d-168c-4a4c-b55f-e034889df484",
        "outputId": "48932153-18a5-42fa-b672-3705cbf94135"
      },
      "outputs": [
        {
          "name": "stdout",
          "output_type": "stream",
          "text": [
            "The person makes over 50K a year\n"
          ]
        }
      ],
      "source": [
        "# Predict the salary of a person\n",
        "new_candidate = pd.DataFrame(\n",
        "    {\n",
        "        \"Age\": [30],\n",
        "        \"Workclass\": [3],\n",
        "        \"Final_weigh\": [0.360141],\n",
        "        \"Education\": [5],\n",
        "        \"Education_num\": [1.134779],\n",
        "        \"Marital_status\": [6],\n",
        "        \"Occupation\": [10],\n",
        "        \"Relationship\": [0],\n",
        "        \"Race\": [\"2\"],\n",
        "        \"Sex\": [0],\n",
        "        \"Capital-gain\": [0],\n",
        "        \"Capital-loss\": [0],\n",
        "        \"Hours-per-week\": [40],\n",
        "        \"Country\": [39],\n",
        "    }\n",
        ")\n",
        "new_salary = model.predict(new_candidate)\n",
        "if new_salary == \" >50K\":\n",
        "    print(\"The person makes over 50K a year\")\n",
        "else:\n",
        "    print(\"The person doesn't make over 50K a year\")"
      ],
      "id": "1d1afe2d-168c-4a4c-b55f-e034889df484"
    }
  ],
  "metadata": {
    "colab": {
      "provenance": [],
      "include_colab_link": true
    },
    "kernelspec": {
      "display_name": "Python 3 (ipykernel)",
      "language": "python",
      "name": "python3"
    },
    "language_info": {
      "codemirror_mode": {
        "name": "ipython",
        "version": 3
      },
      "file_extension": ".py",
      "mimetype": "text/x-python",
      "name": "python",
      "nbconvert_exporter": "python",
      "pygments_lexer": "ipython3",
      "version": "3.9.7"
    }
  },
  "nbformat": 4,
  "nbformat_minor": 5
}